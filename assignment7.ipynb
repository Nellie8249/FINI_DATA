{
  "nbformat": 4,
  "nbformat_minor": 0,
  "metadata": {
    "colab": {
      "provenance": [],
      "authorship_tag": "ABX9TyPKDHnMtx0W3R8CSYSl9CCf",
      "include_colab_link": true
    },
    "kernelspec": {
      "name": "python3",
      "display_name": "Python 3"
    },
    "language_info": {
      "name": "python"
    }
  },
  "cells": [
    {
      "cell_type": "markdown",
      "metadata": {
        "id": "view-in-github",
        "colab_type": "text"
      },
      "source": [
        "<a href=\"https://colab.research.google.com/github/Nellie8249/FINI_DATA/blob/main/assignment7.ipynb\" target=\"_parent\"><img src=\"https://colab.research.google.com/assets/colab-badge.svg\" alt=\"Open In Colab\"/></a>"
      ]
    },
    {
      "cell_type": "code",
      "execution_count": null,
      "metadata": {
        "colab": {
          "base_uri": "https://localhost:8080/"
        },
        "id": "aCv3UXwvzJ5W",
        "outputId": "2c0ec1af-f374-4972-dafa-b9056f11e8fb"
      },
      "outputs": [
        {
          "output_type": "stream",
          "name": "stdout",
          "text": [
            "           value forecast\n",
            "time                     \n",
            "24-Dec  24556033        F\n",
            "23-Dec  23355819        F\n",
            "22-Dec  22666522        P\n",
            "21-Dec  21738982        P\n",
            "20-Dec  19914806        R\n"
          ]
        }
      ],
      "source": [
        "import pandas as pd\n",
        "\n",
        "url = \"https://raw.githubusercontent.com/fju155447/fin_data/main/NominalGDP_new.csv\"\n",
        "df = pd.read_csv(url, index_col=0)\n",
        "print(df.head(5))"
      ]
    },
    {
      "cell_type": "code",
      "source": [
        "import pandas as pd\n",
        "\n",
        "url = \"https://raw.githubusercontent.com/fju155447/fin_data/main/2330.TW.csv\"\n",
        "df = pd.read_csv(url, index_col=0)\n",
        "print(df.head(5))\n",
        "\n",
        "df.columns"
      ],
      "metadata": {
        "colab": {
          "base_uri": "https://localhost:8080/"
        },
        "id": "1w5wT46czlsh",
        "outputId": "80615565-561f-4f2d-fe4c-4be21ad4029c"
      },
      "execution_count": 15,
      "outputs": [
        {
          "output_type": "stream",
          "name": "stdout",
          "text": [
            "             Open   High    Low  Close   Adj Close    Volume\n",
            "Date                                                        \n",
            "2020-01-02  332.5  339.0  332.5  339.0  308.986359  31754120\n",
            "2020-01-03  344.0  345.0  335.5  339.5  309.442047  41811268\n",
            "2020-01-06  333.0  334.5  332.0  332.0  302.606049  45343057\n",
            "2020-01-07  332.5  333.0  326.5  329.5  300.327393  50879181\n",
            "2020-01-08  325.0  333.0  325.0  329.5  300.327393  37567748\n"
          ]
        },
        {
          "output_type": "execute_result",
          "data": {
            "text/plain": [
              "Index(['Open', 'High', 'Low', 'Close', 'Adj Close', 'Volume'], dtype='object')"
            ]
          },
          "metadata": {},
          "execution_count": 15
        }
      ]
    },
    {
      "cell_type": "code",
      "source": [],
      "metadata": {
        "id": "Hat6STm54Kes"
      },
      "execution_count": 13,
      "outputs": []
    }
  ]
}