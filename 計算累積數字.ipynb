{
  "nbformat": 4,
  "nbformat_minor": 0,
  "metadata": {
    "colab": {
      "provenance": [],
      "authorship_tag": "ABX9TyM2/Ip5UzNkA2gsZ8VdGcF2",
      "include_colab_link": true
    },
    "kernelspec": {
      "name": "python3",
      "display_name": "Python 3"
    },
    "language_info": {
      "name": "python"
    }
  },
  "cells": [
    {
      "cell_type": "markdown",
      "metadata": {
        "id": "view-in-github",
        "colab_type": "text"
      },
      "source": [
        "<a href=\"https://colab.research.google.com/github/Nellie8249/FINI_DATA/blob/main/%E8%A8%88%E7%AE%97%E7%B4%AF%E7%A9%8D%E6%95%B8%E5%AD%97.ipynb\" target=\"_parent\"><img src=\"https://colab.research.google.com/assets/colab-badge.svg\" alt=\"Open In Colab\"/></a>"
      ]
    },
    {
      "cell_type": "markdown",
      "source": [
        "1217愛之味"
      ],
      "metadata": {
        "id": "hNpmIaG1yexs"
      }
    },
    {
      "cell_type": "code",
      "execution_count": null,
      "metadata": {
        "id": "dd94Wr_SmEG6"
      },
      "outputs": [],
      "source": [
        "Q1 = 1171271"
      ]
    },
    {
      "cell_type": "code",
      "source": [
        "Q2 = 1159575"
      ],
      "metadata": {
        "id": "efGxrB1dtHOC"
      },
      "execution_count": null,
      "outputs": []
    },
    {
      "cell_type": "code",
      "source": [
        "Q3 = 1626633"
      ],
      "metadata": {
        "id": "0OynYnY8tuGD"
      },
      "execution_count": null,
      "outputs": []
    },
    {
      "cell_type": "code",
      "source": [
        "Q4 = 942559"
      ],
      "metadata": {
        "id": "9EcEMwN9txUr"
      },
      "execution_count": null,
      "outputs": []
    },
    {
      "cell_type": "code",
      "source": [
        "acc_Q1 = Q1\n",
        "print(acc_Q1)"
      ],
      "metadata": {
        "colab": {
          "base_uri": "https://localhost:8080/"
        },
        "id": "is9YXCq9tzTb",
        "outputId": "9c67c5a0-de84-4697-a745-fe2d035f18ea"
      },
      "execution_count": null,
      "outputs": [
        {
          "output_type": "stream",
          "name": "stdout",
          "text": [
            "1171271\n"
          ]
        }
      ]
    },
    {
      "cell_type": "code",
      "source": [
        "acc_Q2 = Q1 + Q2\n",
        "print(acc_Q2)"
      ],
      "metadata": {
        "colab": {
          "base_uri": "https://localhost:8080/"
        },
        "id": "YqylX43wvaBy",
        "outputId": "dc0382d3-8f2b-40e7-bf2a-ee3ed1e2ec73"
      },
      "execution_count": null,
      "outputs": [
        {
          "output_type": "stream",
          "name": "stdout",
          "text": [
            "2330846\n"
          ]
        }
      ]
    },
    {
      "cell_type": "code",
      "source": [
        "acc_Q3 = Q1 + Q2 + Q3\n",
        "print(acc_Q3)"
      ],
      "metadata": {
        "colab": {
          "base_uri": "https://localhost:8080/"
        },
        "id": "S6yQz3rgwCDa",
        "outputId": "759389a0-beeb-4637-a905-537609840177"
      },
      "execution_count": null,
      "outputs": [
        {
          "output_type": "stream",
          "name": "stdout",
          "text": [
            "3957479\n"
          ]
        }
      ]
    },
    {
      "cell_type": "code",
      "source": [
        "acc_Q4 = Q1 + Q2 + Q3 + Q4\n",
        "print(acc_Q4)"
      ],
      "metadata": {
        "colab": {
          "base_uri": "https://localhost:8080/"
        },
        "id": "9xMzvVQUwGmk",
        "outputId": "2eb121f4-3223-41fb-e702-d371b11751c4"
      },
      "execution_count": null,
      "outputs": [
        {
          "output_type": "stream",
          "name": "stdout",
          "text": [
            "4900038\n"
          ]
        }
      ]
    },
    {
      "cell_type": "markdown",
      "source": [
        "1218泰山"
      ],
      "metadata": {
        "id": "YR0_HgLczPeZ"
      }
    },
    {
      "cell_type": "code",
      "source": [
        "Q1  = 2679807"
      ],
      "metadata": {
        "id": "jkOox3eMzUxJ"
      },
      "execution_count": 41,
      "outputs": []
    },
    {
      "cell_type": "code",
      "source": [
        "Q2 = 2623514"
      ],
      "metadata": {
        "id": "CMwUPGxdzawa"
      },
      "execution_count": 42,
      "outputs": []
    },
    {
      "cell_type": "code",
      "source": [
        "Q3 = 3300411"
      ],
      "metadata": {
        "id": "i9-HKrMtzdBB"
      },
      "execution_count": 43,
      "outputs": []
    },
    {
      "cell_type": "code",
      "source": [
        "Q4 = 2654693"
      ],
      "metadata": {
        "id": "3oqgzCJ5zfEk"
      },
      "execution_count": 44,
      "outputs": []
    },
    {
      "cell_type": "code",
      "source": [
        "acc_Q1 = Q1\n",
        "print(acc_Q1)"
      ],
      "metadata": {
        "colab": {
          "base_uri": "https://localhost:8080/"
        },
        "id": "5PftwEXezhJk",
        "outputId": "ed2e4e2b-40da-45cd-875c-4d23b661160c"
      },
      "execution_count": 45,
      "outputs": [
        {
          "output_type": "stream",
          "name": "stdout",
          "text": [
            "2679807\n"
          ]
        }
      ]
    },
    {
      "cell_type": "code",
      "source": [
        "acc_Q2 = Q1 + Q2\n",
        "print(acc_Q2)"
      ],
      "metadata": {
        "colab": {
          "base_uri": "https://localhost:8080/"
        },
        "id": "hgKb1Pr0zkfM",
        "outputId": "02b0edc9-0b35-4f07-8cf3-322d41156c9e"
      },
      "execution_count": 46,
      "outputs": [
        {
          "output_type": "stream",
          "name": "stdout",
          "text": [
            "5303321\n"
          ]
        }
      ]
    },
    {
      "cell_type": "code",
      "source": [
        "acc_Q3 = Q1 + Q2 + Q3\n",
        "print(acc_Q3)"
      ],
      "metadata": {
        "colab": {
          "base_uri": "https://localhost:8080/"
        },
        "id": "9jnhC1HBzmvM",
        "outputId": "f4aa5f18-1fd7-4810-bd31-9493c82c77a1"
      },
      "execution_count": 47,
      "outputs": [
        {
          "output_type": "stream",
          "name": "stdout",
          "text": [
            "8603732\n"
          ]
        }
      ]
    },
    {
      "cell_type": "code",
      "source": [
        "acc_Q4 = Q1 + Q2 + Q3 + Q4\n",
        "print(acc_Q4)"
      ],
      "metadata": {
        "colab": {
          "base_uri": "https://localhost:8080/"
        },
        "id": "lE-mgrQdzohk",
        "outputId": "d435444c-3632-4f13-d747-4186b10cf5ba"
      },
      "execution_count": 48,
      "outputs": [
        {
          "output_type": "stream",
          "name": "stdout",
          "text": [
            "11258425\n"
          ]
        }
      ]
    }
  ]
}