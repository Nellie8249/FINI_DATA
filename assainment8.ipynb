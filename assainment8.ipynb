{
  "nbformat": 4,
  "nbformat_minor": 0,
  "metadata": {
    "colab": {
      "provenance": [],
      "authorship_tag": "ABX9TyMKpJGgZZn27Ck1bYb9j+JC",
      "include_colab_link": true
    },
    "kernelspec": {
      "name": "python3",
      "display_name": "Python 3"
    },
    "language_info": {
      "name": "python"
    }
  },
  "cells": [
    {
      "cell_type": "markdown",
      "metadata": {
        "id": "view-in-github",
        "colab_type": "text"
      },
      "source": [
        "<a href=\"https://colab.research.google.com/github/Nellie8249/FINI_DATA/blob/main/assainment8.ipynb\" target=\"_parent\"><img src=\"https://colab.research.google.com/assets/colab-badge.svg\" alt=\"Open In Colab\"/></a>"
      ]
    },
    {
      "cell_type": "code",
      "execution_count": null,
      "metadata": {
        "id": "EmXxOV5dpBsM"
      },
      "outputs": [],
      "source": [
        "import pandas as pd"
      ]
    },
    {
      "cell_type": "code",
      "source": [
        "url = \"https://raw.github.com/Nellie8249/FINI_DATA/main/BALANCESHEET.csv\""
      ],
      "metadata": {
        "id": "ADSm8ncDptVX"
      },
      "execution_count": null,
      "outputs": []
    },
    {
      "cell_type": "code",
      "source": [
        "df1 = pd.read_csv(url, index_col=0, encoding='unicode escape')"
      ],
      "metadata": {
        "id": "zeXRSV9up3l1"
      },
      "execution_count": null,
      "outputs": []
    },
    {
      "cell_type": "code",
      "source": [
        "df1\n"
      ],
      "metadata": {
        "colab": {
          "base_uri": "https://localhost:8080/",
          "height": 366
        },
        "id": "L-V1DaQgqT2G",
        "outputId": "5259913c-7cdb-4f1b-9bf0-29f3e18f2b9c"
      },
      "execution_count": null,
      "outputs": [
        {
          "output_type": "execute_result",
          "data": {
            "text/plain": [
              "             YYYY/MM  Quarter  Month consolidation Currency  \\\n",
              "CO_ID                                                         \n",
              "1217 AGV     2023/12        4     12             Y      NTD   \n",
              "1218 Taisun  2023/12        4     12             Y      NTD   \n",
              "\n",
              "             Total cash and cash equivalents  \\\n",
              "CO_ID                                          \n",
              "1217 AGV                            591247.0   \n",
              "1218 Taisun                        1821582.0   \n",
              "\n",
              "             Total current financial assets at fair value through profit or loss  \\\n",
              "CO_ID                                                                              \n",
              "1217 AGV                                              247264.0                     \n",
              "1218 Taisun                                           104049.0                     \n",
              "\n",
              "             Financial assets at fair value through other comprehensive income - Current  \\\n",
              "CO_ID                                                                                      \n",
              "1217 AGV                                                   0.0                             \n",
              "1218 Taisun                                                0.0                             \n",
              "\n",
              "             Financial assets measured at amortized cost - Current  \\\n",
              "CO_ID                                                                \n",
              "1217 AGV                                                   0.0       \n",
              "1218 Taisun                                                0.0       \n",
              "\n",
              "             Current financial assets for hedging  ...  \\\n",
              "CO_ID                                              ...   \n",
              "1217 AGV                                      0.0  ...   \n",
              "1218 Taisun                                   0.0  ...   \n",
              "\n",
              "             Other equity - unearned compensation  Other equity, others  \\\n",
              "CO_ID                                                                     \n",
              "1217 AGV                                      0.0                   0.0   \n",
              "1218 Taisun                                   0.0                   0.0   \n",
              "\n",
              "             Total other equity interest  Treasury shares  \\\n",
              "CO_ID                                                       \n",
              "1217 AGV                        420448.0              0.0   \n",
              "1218 Taisun                     -91700.0        -203876.0   \n",
              "\n",
              "             Total equity attributable to owners of parent  \\\n",
              "CO_ID                                                        \n",
              "1217 AGV                                         6799310.0   \n",
              "1218 Taisun                                     12078659.0   \n",
              "\n",
              "             Interests in the former associate or jointly controlled entity  \\\n",
              "CO_ID                                                                         \n",
              "1217 AGV                                                   0.0                \n",
              "1218 Taisun                                                0.0                \n",
              "\n",
              "             Non-controlling interest in pre-acquisition share capital  \\\n",
              "CO_ID                                                                    \n",
              "1217 AGV                                                   0.0           \n",
              "1218 Taisun                                                0.0           \n",
              "\n",
              "             Non-controlling interests  Total equity  \\\n",
              "CO_ID                                                  \n",
              "1217 AGV                      765181.0     7564491.0   \n",
              "1218 Taisun                     5409.0    12084068.0   \n",
              "\n",
              "             Total liabilities & equity  \n",
              "CO_ID                                    \n",
              "1217 AGV                     14021710.0  \n",
              "1218 Taisun                  13679164.0  \n",
              "\n",
              "[2 rows x 111 columns]"
            ],
            "text/html": [
              "\n",
              "  <div id=\"df-cf4b22cc-92e6-4cc7-898b-60768813e647\" class=\"colab-df-container\">\n",
              "    <div>\n",
              "<style scoped>\n",
              "    .dataframe tbody tr th:only-of-type {\n",
              "        vertical-align: middle;\n",
              "    }\n",
              "\n",
              "    .dataframe tbody tr th {\n",
              "        vertical-align: top;\n",
              "    }\n",
              "\n",
              "    .dataframe thead th {\n",
              "        text-align: right;\n",
              "    }\n",
              "</style>\n",
              "<table border=\"1\" class=\"dataframe\">\n",
              "  <thead>\n",
              "    <tr style=\"text-align: right;\">\n",
              "      <th></th>\n",
              "      <th>YYYY/MM</th>\n",
              "      <th>Quarter</th>\n",
              "      <th>Month</th>\n",
              "      <th>consolidation</th>\n",
              "      <th>Currency</th>\n",
              "      <th>Total cash and cash equivalents</th>\n",
              "      <th>Total current financial assets at fair value through profit or loss</th>\n",
              "      <th>Financial assets at fair value through other comprehensive income - Current</th>\n",
              "      <th>Financial assets measured at amortized cost - Current</th>\n",
              "      <th>Current financial assets for hedging</th>\n",
              "      <th>...</th>\n",
              "      <th>Other equity - unearned compensation</th>\n",
              "      <th>Other equity, others</th>\n",
              "      <th>Total other equity interest</th>\n",
              "      <th>Treasury shares</th>\n",
              "      <th>Total equity attributable to owners of parent</th>\n",
              "      <th>Interests in the former associate or jointly controlled entity</th>\n",
              "      <th>Non-controlling interest in pre-acquisition share capital</th>\n",
              "      <th>Non-controlling interests</th>\n",
              "      <th>Total equity</th>\n",
              "      <th>Total liabilities &amp; equity</th>\n",
              "    </tr>\n",
              "    <tr>\n",
              "      <th>CO_ID</th>\n",
              "      <th></th>\n",
              "      <th></th>\n",
              "      <th></th>\n",
              "      <th></th>\n",
              "      <th></th>\n",
              "      <th></th>\n",
              "      <th></th>\n",
              "      <th></th>\n",
              "      <th></th>\n",
              "      <th></th>\n",
              "      <th></th>\n",
              "      <th></th>\n",
              "      <th></th>\n",
              "      <th></th>\n",
              "      <th></th>\n",
              "      <th></th>\n",
              "      <th></th>\n",
              "      <th></th>\n",
              "      <th></th>\n",
              "      <th></th>\n",
              "      <th></th>\n",
              "    </tr>\n",
              "  </thead>\n",
              "  <tbody>\n",
              "    <tr>\n",
              "      <th>1217 AGV</th>\n",
              "      <td>2023/12</td>\n",
              "      <td>4</td>\n",
              "      <td>12</td>\n",
              "      <td>Y</td>\n",
              "      <td>NTD</td>\n",
              "      <td>591247.0</td>\n",
              "      <td>247264.0</td>\n",
              "      <td>0.0</td>\n",
              "      <td>0.0</td>\n",
              "      <td>0.0</td>\n",
              "      <td>...</td>\n",
              "      <td>0.0</td>\n",
              "      <td>0.0</td>\n",
              "      <td>420448.0</td>\n",
              "      <td>0.0</td>\n",
              "      <td>6799310.0</td>\n",
              "      <td>0.0</td>\n",
              "      <td>0.0</td>\n",
              "      <td>765181.0</td>\n",
              "      <td>7564491.0</td>\n",
              "      <td>14021710.0</td>\n",
              "    </tr>\n",
              "    <tr>\n",
              "      <th>1218 Taisun</th>\n",
              "      <td>2023/12</td>\n",
              "      <td>4</td>\n",
              "      <td>12</td>\n",
              "      <td>Y</td>\n",
              "      <td>NTD</td>\n",
              "      <td>1821582.0</td>\n",
              "      <td>104049.0</td>\n",
              "      <td>0.0</td>\n",
              "      <td>0.0</td>\n",
              "      <td>0.0</td>\n",
              "      <td>...</td>\n",
              "      <td>0.0</td>\n",
              "      <td>0.0</td>\n",
              "      <td>-91700.0</td>\n",
              "      <td>-203876.0</td>\n",
              "      <td>12078659.0</td>\n",
              "      <td>0.0</td>\n",
              "      <td>0.0</td>\n",
              "      <td>5409.0</td>\n",
              "      <td>12084068.0</td>\n",
              "      <td>13679164.0</td>\n",
              "    </tr>\n",
              "  </tbody>\n",
              "</table>\n",
              "<p>2 rows × 111 columns</p>\n",
              "</div>\n",
              "    <div class=\"colab-df-buttons\">\n",
              "\n",
              "  <div class=\"colab-df-container\">\n",
              "    <button class=\"colab-df-convert\" onclick=\"convertToInteractive('df-cf4b22cc-92e6-4cc7-898b-60768813e647')\"\n",
              "            title=\"Convert this dataframe to an interactive table.\"\n",
              "            style=\"display:none;\">\n",
              "\n",
              "  <svg xmlns=\"http://www.w3.org/2000/svg\" height=\"24px\" viewBox=\"0 -960 960 960\">\n",
              "    <path d=\"M120-120v-720h720v720H120Zm60-500h600v-160H180v160Zm220 220h160v-160H400v160Zm0 220h160v-160H400v160ZM180-400h160v-160H180v160Zm440 0h160v-160H620v160ZM180-180h160v-160H180v160Zm440 0h160v-160H620v160Z\"/>\n",
              "  </svg>\n",
              "    </button>\n",
              "\n",
              "  <style>\n",
              "    .colab-df-container {\n",
              "      display:flex;\n",
              "      gap: 12px;\n",
              "    }\n",
              "\n",
              "    .colab-df-convert {\n",
              "      background-color: #E8F0FE;\n",
              "      border: none;\n",
              "      border-radius: 50%;\n",
              "      cursor: pointer;\n",
              "      display: none;\n",
              "      fill: #1967D2;\n",
              "      height: 32px;\n",
              "      padding: 0 0 0 0;\n",
              "      width: 32px;\n",
              "    }\n",
              "\n",
              "    .colab-df-convert:hover {\n",
              "      background-color: #E2EBFA;\n",
              "      box-shadow: 0px 1px 2px rgba(60, 64, 67, 0.3), 0px 1px 3px 1px rgba(60, 64, 67, 0.15);\n",
              "      fill: #174EA6;\n",
              "    }\n",
              "\n",
              "    .colab-df-buttons div {\n",
              "      margin-bottom: 4px;\n",
              "    }\n",
              "\n",
              "    [theme=dark] .colab-df-convert {\n",
              "      background-color: #3B4455;\n",
              "      fill: #D2E3FC;\n",
              "    }\n",
              "\n",
              "    [theme=dark] .colab-df-convert:hover {\n",
              "      background-color: #434B5C;\n",
              "      box-shadow: 0px 1px 3px 1px rgba(0, 0, 0, 0.15);\n",
              "      filter: drop-shadow(0px 1px 2px rgba(0, 0, 0, 0.3));\n",
              "      fill: #FFFFFF;\n",
              "    }\n",
              "  </style>\n",
              "\n",
              "    <script>\n",
              "      const buttonEl =\n",
              "        document.querySelector('#df-cf4b22cc-92e6-4cc7-898b-60768813e647 button.colab-df-convert');\n",
              "      buttonEl.style.display =\n",
              "        google.colab.kernel.accessAllowed ? 'block' : 'none';\n",
              "\n",
              "      async function convertToInteractive(key) {\n",
              "        const element = document.querySelector('#df-cf4b22cc-92e6-4cc7-898b-60768813e647');\n",
              "        const dataTable =\n",
              "          await google.colab.kernel.invokeFunction('convertToInteractive',\n",
              "                                                    [key], {});\n",
              "        if (!dataTable) return;\n",
              "\n",
              "        const docLinkHtml = 'Like what you see? Visit the ' +\n",
              "          '<a target=\"_blank\" href=https://colab.research.google.com/notebooks/data_table.ipynb>data table notebook</a>'\n",
              "          + ' to learn more about interactive tables.';\n",
              "        element.innerHTML = '';\n",
              "        dataTable['output_type'] = 'display_data';\n",
              "        await google.colab.output.renderOutput(dataTable, element);\n",
              "        const docLink = document.createElement('div');\n",
              "        docLink.innerHTML = docLinkHtml;\n",
              "        element.appendChild(docLink);\n",
              "      }\n",
              "    </script>\n",
              "  </div>\n",
              "\n",
              "\n",
              "<div id=\"df-729cca40-69f7-4523-b4a8-0e567ffc68ce\">\n",
              "  <button class=\"colab-df-quickchart\" onclick=\"quickchart('df-729cca40-69f7-4523-b4a8-0e567ffc68ce')\"\n",
              "            title=\"Suggest charts\"\n",
              "            style=\"display:none;\">\n",
              "\n",
              "<svg xmlns=\"http://www.w3.org/2000/svg\" height=\"24px\"viewBox=\"0 0 24 24\"\n",
              "     width=\"24px\">\n",
              "    <g>\n",
              "        <path d=\"M19 3H5c-1.1 0-2 .9-2 2v14c0 1.1.9 2 2 2h14c1.1 0 2-.9 2-2V5c0-1.1-.9-2-2-2zM9 17H7v-7h2v7zm4 0h-2V7h2v10zm4 0h-2v-4h2v4z\"/>\n",
              "    </g>\n",
              "</svg>\n",
              "  </button>\n",
              "\n",
              "<style>\n",
              "  .colab-df-quickchart {\n",
              "      --bg-color: #E8F0FE;\n",
              "      --fill-color: #1967D2;\n",
              "      --hover-bg-color: #E2EBFA;\n",
              "      --hover-fill-color: #174EA6;\n",
              "      --disabled-fill-color: #AAA;\n",
              "      --disabled-bg-color: #DDD;\n",
              "  }\n",
              "\n",
              "  [theme=dark] .colab-df-quickchart {\n",
              "      --bg-color: #3B4455;\n",
              "      --fill-color: #D2E3FC;\n",
              "      --hover-bg-color: #434B5C;\n",
              "      --hover-fill-color: #FFFFFF;\n",
              "      --disabled-bg-color: #3B4455;\n",
              "      --disabled-fill-color: #666;\n",
              "  }\n",
              "\n",
              "  .colab-df-quickchart {\n",
              "    background-color: var(--bg-color);\n",
              "    border: none;\n",
              "    border-radius: 50%;\n",
              "    cursor: pointer;\n",
              "    display: none;\n",
              "    fill: var(--fill-color);\n",
              "    height: 32px;\n",
              "    padding: 0;\n",
              "    width: 32px;\n",
              "  }\n",
              "\n",
              "  .colab-df-quickchart:hover {\n",
              "    background-color: var(--hover-bg-color);\n",
              "    box-shadow: 0 1px 2px rgba(60, 64, 67, 0.3), 0 1px 3px 1px rgba(60, 64, 67, 0.15);\n",
              "    fill: var(--button-hover-fill-color);\n",
              "  }\n",
              "\n",
              "  .colab-df-quickchart-complete:disabled,\n",
              "  .colab-df-quickchart-complete:disabled:hover {\n",
              "    background-color: var(--disabled-bg-color);\n",
              "    fill: var(--disabled-fill-color);\n",
              "    box-shadow: none;\n",
              "  }\n",
              "\n",
              "  .colab-df-spinner {\n",
              "    border: 2px solid var(--fill-color);\n",
              "    border-color: transparent;\n",
              "    border-bottom-color: var(--fill-color);\n",
              "    animation:\n",
              "      spin 1s steps(1) infinite;\n",
              "  }\n",
              "\n",
              "  @keyframes spin {\n",
              "    0% {\n",
              "      border-color: transparent;\n",
              "      border-bottom-color: var(--fill-color);\n",
              "      border-left-color: var(--fill-color);\n",
              "    }\n",
              "    20% {\n",
              "      border-color: transparent;\n",
              "      border-left-color: var(--fill-color);\n",
              "      border-top-color: var(--fill-color);\n",
              "    }\n",
              "    30% {\n",
              "      border-color: transparent;\n",
              "      border-left-color: var(--fill-color);\n",
              "      border-top-color: var(--fill-color);\n",
              "      border-right-color: var(--fill-color);\n",
              "    }\n",
              "    40% {\n",
              "      border-color: transparent;\n",
              "      border-right-color: var(--fill-color);\n",
              "      border-top-color: var(--fill-color);\n",
              "    }\n",
              "    60% {\n",
              "      border-color: transparent;\n",
              "      border-right-color: var(--fill-color);\n",
              "    }\n",
              "    80% {\n",
              "      border-color: transparent;\n",
              "      border-right-color: var(--fill-color);\n",
              "      border-bottom-color: var(--fill-color);\n",
              "    }\n",
              "    90% {\n",
              "      border-color: transparent;\n",
              "      border-bottom-color: var(--fill-color);\n",
              "    }\n",
              "  }\n",
              "</style>\n",
              "\n",
              "  <script>\n",
              "    async function quickchart(key) {\n",
              "      const quickchartButtonEl =\n",
              "        document.querySelector('#' + key + ' button');\n",
              "      quickchartButtonEl.disabled = true;  // To prevent multiple clicks.\n",
              "      quickchartButtonEl.classList.add('colab-df-spinner');\n",
              "      try {\n",
              "        const charts = await google.colab.kernel.invokeFunction(\n",
              "            'suggestCharts', [key], {});\n",
              "      } catch (error) {\n",
              "        console.error('Error during call to suggestCharts:', error);\n",
              "      }\n",
              "      quickchartButtonEl.classList.remove('colab-df-spinner');\n",
              "      quickchartButtonEl.classList.add('colab-df-quickchart-complete');\n",
              "    }\n",
              "    (() => {\n",
              "      let quickchartButtonEl =\n",
              "        document.querySelector('#df-729cca40-69f7-4523-b4a8-0e567ffc68ce button');\n",
              "      quickchartButtonEl.style.display =\n",
              "        google.colab.kernel.accessAllowed ? 'block' : 'none';\n",
              "    })();\n",
              "  </script>\n",
              "</div>\n",
              "\n",
              "  <div id=\"id_c50489ef-225b-4ab6-a01e-823250dae541\">\n",
              "    <style>\n",
              "      .colab-df-generate {\n",
              "        background-color: #E8F0FE;\n",
              "        border: none;\n",
              "        border-radius: 50%;\n",
              "        cursor: pointer;\n",
              "        display: none;\n",
              "        fill: #1967D2;\n",
              "        height: 32px;\n",
              "        padding: 0 0 0 0;\n",
              "        width: 32px;\n",
              "      }\n",
              "\n",
              "      .colab-df-generate:hover {\n",
              "        background-color: #E2EBFA;\n",
              "        box-shadow: 0px 1px 2px rgba(60, 64, 67, 0.3), 0px 1px 3px 1px rgba(60, 64, 67, 0.15);\n",
              "        fill: #174EA6;\n",
              "      }\n",
              "\n",
              "      [theme=dark] .colab-df-generate {\n",
              "        background-color: #3B4455;\n",
              "        fill: #D2E3FC;\n",
              "      }\n",
              "\n",
              "      [theme=dark] .colab-df-generate:hover {\n",
              "        background-color: #434B5C;\n",
              "        box-shadow: 0px 1px 3px 1px rgba(0, 0, 0, 0.15);\n",
              "        filter: drop-shadow(0px 1px 2px rgba(0, 0, 0, 0.3));\n",
              "        fill: #FFFFFF;\n",
              "      }\n",
              "    </style>\n",
              "    <button class=\"colab-df-generate\" onclick=\"generateWithVariable('df1')\"\n",
              "            title=\"Generate code using this dataframe.\"\n",
              "            style=\"display:none;\">\n",
              "\n",
              "  <svg xmlns=\"http://www.w3.org/2000/svg\" height=\"24px\"viewBox=\"0 0 24 24\"\n",
              "       width=\"24px\">\n",
              "    <path d=\"M7,19H8.4L18.45,9,17,7.55,7,17.6ZM5,21V16.75L18.45,3.32a2,2,0,0,1,2.83,0l1.4,1.43a1.91,1.91,0,0,1,.58,1.4,1.91,1.91,0,0,1-.58,1.4L9.25,21ZM18.45,9,17,7.55Zm-12,3A5.31,5.31,0,0,0,4.9,8.1,5.31,5.31,0,0,0,1,6.5,5.31,5.31,0,0,0,4.9,4.9,5.31,5.31,0,0,0,6.5,1,5.31,5.31,0,0,0,8.1,4.9,5.31,5.31,0,0,0,12,6.5,5.46,5.46,0,0,0,6.5,12Z\"/>\n",
              "  </svg>\n",
              "    </button>\n",
              "    <script>\n",
              "      (() => {\n",
              "      const buttonEl =\n",
              "        document.querySelector('#id_c50489ef-225b-4ab6-a01e-823250dae541 button.colab-df-generate');\n",
              "      buttonEl.style.display =\n",
              "        google.colab.kernel.accessAllowed ? 'block' : 'none';\n",
              "\n",
              "      buttonEl.onclick = () => {\n",
              "        google.colab.notebook.generateWithVariable('df1');\n",
              "      }\n",
              "      })();\n",
              "    </script>\n",
              "  </div>\n",
              "\n",
              "    </div>\n",
              "  </div>\n"
            ],
            "application/vnd.google.colaboratory.intrinsic+json": {
              "type": "dataframe",
              "variable_name": "df1"
            }
          },
          "metadata": {},
          "execution_count": 10
        }
      ]
    },
    {
      "cell_type": "code",
      "source": [
        "url = \"https://raw.github.com/Nellie8249/FINI_DATA/main/INCOMESTATEMENT.csv\""
      ],
      "metadata": {
        "id": "DyuBOQXhrPD2"
      },
      "execution_count": null,
      "outputs": []
    },
    {
      "cell_type": "code",
      "source": [
        "df2 = pd.read_csv(url, index_col=0, encoding='unicode escape')"
      ],
      "metadata": {
        "id": "5HbnR1KzqdLe"
      },
      "execution_count": null,
      "outputs": []
    },
    {
      "cell_type": "code",
      "source": [
        "df2"
      ],
      "metadata": {
        "colab": {
          "base_uri": "https://localhost:8080/",
          "height": 312
        },
        "id": "vW0sMrUyrZqG",
        "outputId": "c9e18f64-8c63-46de-ceec-a22aea59a20a"
      },
      "execution_count": null,
      "outputs": [
        {
          "output_type": "execute_result",
          "data": {
            "text/plain": [
              "             YYYY/MM  Quarter consolidation  Month Currency  \\\n",
              "ï»¿CO_ID                                                      \n",
              "1217 AGV     2023/12        4             Y     12      NTD   \n",
              "1218 Taisun  2023/12        4             Y     12      NTD   \n",
              "\n",
              "             Gross operating revenue  Total rental revenue  \\\n",
              "ï»¿CO_ID                                                     \n",
              "1217 AGV                   5273175.0                   0.0   \n",
              "1218 Taisun               11215477.0               12948.0   \n",
              "\n",
              "             Operating revenue - Disposal of lands  Interest revenue  \\\n",
              "ï»¿CO_ID                                                               \n",
              "1217 AGV                                       0.0               0.0   \n",
              "1218 Taisun                                    0.0               0.0   \n",
              "\n",
              "             Operating revenue - disposal of investments  ...  \\\n",
              "ï»¿CO_ID                                                  ...   \n",
              "1217 AGV                                             0.0  ...   \n",
              "1218 Taisun                                          0.0  ...   \n",
              "\n",
              "             Preferred stock dividends  Diluted net income  \\\n",
              "ï»¿CO_ID                                                     \n",
              "1217 AGV                           0.0            200936.0   \n",
              "1218 Taisun                        0.0            -80870.0   \n",
              "\n",
              "             Total diluted earnings per share  \\\n",
              "ï»¿CO_ID                                        \n",
              "1217 AGV                                 0.41   \n",
              "1218 Taisun                             -0.17   \n",
              "\n",
              "             Average diluted common shares (Thousand)  \\\n",
              "ï»¿CO_ID                                                \n",
              "1217 AGV                                     494829.0   \n",
              "1218 Taisun                                  486393.0   \n",
              "\n",
              "             Earnings before interest and tax  \\\n",
              "ï»¿CO_ID                                        \n",
              "1217 AGV                             393508.0   \n",
              "1218 Taisun                          143869.0   \n",
              "\n",
              "             Earnings before interest, tax, depreciation and amortization  \\\n",
              "ï»¿CO_ID                                                                    \n",
              "1217 AGV                                              524469.0              \n",
              "1218 Taisun                                           288029.0              \n",
              "\n",
              "             Recurring net income  Treasury shares-buys back  \\\n",
              "ï»¿CO_ID                                                       \n",
              "1217 AGV                 178387.0                        0.0   \n",
              "1218 Taisun              -91998.0                        0.0   \n",
              "\n",
              "             Treasury shares-subsidiary holding  Total treasury shares  \n",
              "ï»¿CO_ID                                                                \n",
              "1217 AGV                                    0.0                    0.0  \n",
              "1218 Taisun                             13679.0                13679.0  \n",
              "\n",
              "[2 rows x 133 columns]"
            ],
            "text/html": [
              "\n",
              "  <div id=\"df-333cc9f2-3ab9-4f1f-bd5e-848f71129193\" class=\"colab-df-container\">\n",
              "    <div>\n",
              "<style scoped>\n",
              "    .dataframe tbody tr th:only-of-type {\n",
              "        vertical-align: middle;\n",
              "    }\n",
              "\n",
              "    .dataframe tbody tr th {\n",
              "        vertical-align: top;\n",
              "    }\n",
              "\n",
              "    .dataframe thead th {\n",
              "        text-align: right;\n",
              "    }\n",
              "</style>\n",
              "<table border=\"1\" class=\"dataframe\">\n",
              "  <thead>\n",
              "    <tr style=\"text-align: right;\">\n",
              "      <th></th>\n",
              "      <th>YYYY/MM</th>\n",
              "      <th>Quarter</th>\n",
              "      <th>consolidation</th>\n",
              "      <th>Month</th>\n",
              "      <th>Currency</th>\n",
              "      <th>Gross operating revenue</th>\n",
              "      <th>Total rental revenue</th>\n",
              "      <th>Operating revenue - Disposal of lands</th>\n",
              "      <th>Interest revenue</th>\n",
              "      <th>Operating revenue - disposal of investments</th>\n",
              "      <th>...</th>\n",
              "      <th>Preferred stock dividends</th>\n",
              "      <th>Diluted net income</th>\n",
              "      <th>Total diluted earnings per share</th>\n",
              "      <th>Average diluted common shares (Thousand)</th>\n",
              "      <th>Earnings before interest and tax</th>\n",
              "      <th>Earnings before interest, tax, depreciation and amortization</th>\n",
              "      <th>Recurring net income</th>\n",
              "      <th>Treasury shares-buys back</th>\n",
              "      <th>Treasury shares-subsidiary holding</th>\n",
              "      <th>Total treasury shares</th>\n",
              "    </tr>\n",
              "    <tr>\n",
              "      <th>ï»¿CO_ID</th>\n",
              "      <th></th>\n",
              "      <th></th>\n",
              "      <th></th>\n",
              "      <th></th>\n",
              "      <th></th>\n",
              "      <th></th>\n",
              "      <th></th>\n",
              "      <th></th>\n",
              "      <th></th>\n",
              "      <th></th>\n",
              "      <th></th>\n",
              "      <th></th>\n",
              "      <th></th>\n",
              "      <th></th>\n",
              "      <th></th>\n",
              "      <th></th>\n",
              "      <th></th>\n",
              "      <th></th>\n",
              "      <th></th>\n",
              "      <th></th>\n",
              "      <th></th>\n",
              "    </tr>\n",
              "  </thead>\n",
              "  <tbody>\n",
              "    <tr>\n",
              "      <th>1217 AGV</th>\n",
              "      <td>2023/12</td>\n",
              "      <td>4</td>\n",
              "      <td>Y</td>\n",
              "      <td>12</td>\n",
              "      <td>NTD</td>\n",
              "      <td>5273175.0</td>\n",
              "      <td>0.0</td>\n",
              "      <td>0.0</td>\n",
              "      <td>0.0</td>\n",
              "      <td>0.0</td>\n",
              "      <td>...</td>\n",
              "      <td>0.0</td>\n",
              "      <td>200936.0</td>\n",
              "      <td>0.41</td>\n",
              "      <td>494829.0</td>\n",
              "      <td>393508.0</td>\n",
              "      <td>524469.0</td>\n",
              "      <td>178387.0</td>\n",
              "      <td>0.0</td>\n",
              "      <td>0.0</td>\n",
              "      <td>0.0</td>\n",
              "    </tr>\n",
              "    <tr>\n",
              "      <th>1218 Taisun</th>\n",
              "      <td>2023/12</td>\n",
              "      <td>4</td>\n",
              "      <td>Y</td>\n",
              "      <td>12</td>\n",
              "      <td>NTD</td>\n",
              "      <td>11215477.0</td>\n",
              "      <td>12948.0</td>\n",
              "      <td>0.0</td>\n",
              "      <td>0.0</td>\n",
              "      <td>0.0</td>\n",
              "      <td>...</td>\n",
              "      <td>0.0</td>\n",
              "      <td>-80870.0</td>\n",
              "      <td>-0.17</td>\n",
              "      <td>486393.0</td>\n",
              "      <td>143869.0</td>\n",
              "      <td>288029.0</td>\n",
              "      <td>-91998.0</td>\n",
              "      <td>0.0</td>\n",
              "      <td>13679.0</td>\n",
              "      <td>13679.0</td>\n",
              "    </tr>\n",
              "  </tbody>\n",
              "</table>\n",
              "<p>2 rows × 133 columns</p>\n",
              "</div>\n",
              "    <div class=\"colab-df-buttons\">\n",
              "\n",
              "  <div class=\"colab-df-container\">\n",
              "    <button class=\"colab-df-convert\" onclick=\"convertToInteractive('df-333cc9f2-3ab9-4f1f-bd5e-848f71129193')\"\n",
              "            title=\"Convert this dataframe to an interactive table.\"\n",
              "            style=\"display:none;\">\n",
              "\n",
              "  <svg xmlns=\"http://www.w3.org/2000/svg\" height=\"24px\" viewBox=\"0 -960 960 960\">\n",
              "    <path d=\"M120-120v-720h720v720H120Zm60-500h600v-160H180v160Zm220 220h160v-160H400v160Zm0 220h160v-160H400v160ZM180-400h160v-160H180v160Zm440 0h160v-160H620v160ZM180-180h160v-160H180v160Zm440 0h160v-160H620v160Z\"/>\n",
              "  </svg>\n",
              "    </button>\n",
              "\n",
              "  <style>\n",
              "    .colab-df-container {\n",
              "      display:flex;\n",
              "      gap: 12px;\n",
              "    }\n",
              "\n",
              "    .colab-df-convert {\n",
              "      background-color: #E8F0FE;\n",
              "      border: none;\n",
              "      border-radius: 50%;\n",
              "      cursor: pointer;\n",
              "      display: none;\n",
              "      fill: #1967D2;\n",
              "      height: 32px;\n",
              "      padding: 0 0 0 0;\n",
              "      width: 32px;\n",
              "    }\n",
              "\n",
              "    .colab-df-convert:hover {\n",
              "      background-color: #E2EBFA;\n",
              "      box-shadow: 0px 1px 2px rgba(60, 64, 67, 0.3), 0px 1px 3px 1px rgba(60, 64, 67, 0.15);\n",
              "      fill: #174EA6;\n",
              "    }\n",
              "\n",
              "    .colab-df-buttons div {\n",
              "      margin-bottom: 4px;\n",
              "    }\n",
              "\n",
              "    [theme=dark] .colab-df-convert {\n",
              "      background-color: #3B4455;\n",
              "      fill: #D2E3FC;\n",
              "    }\n",
              "\n",
              "    [theme=dark] .colab-df-convert:hover {\n",
              "      background-color: #434B5C;\n",
              "      box-shadow: 0px 1px 3px 1px rgba(0, 0, 0, 0.15);\n",
              "      filter: drop-shadow(0px 1px 2px rgba(0, 0, 0, 0.3));\n",
              "      fill: #FFFFFF;\n",
              "    }\n",
              "  </style>\n",
              "\n",
              "    <script>\n",
              "      const buttonEl =\n",
              "        document.querySelector('#df-333cc9f2-3ab9-4f1f-bd5e-848f71129193 button.colab-df-convert');\n",
              "      buttonEl.style.display =\n",
              "        google.colab.kernel.accessAllowed ? 'block' : 'none';\n",
              "\n",
              "      async function convertToInteractive(key) {\n",
              "        const element = document.querySelector('#df-333cc9f2-3ab9-4f1f-bd5e-848f71129193');\n",
              "        const dataTable =\n",
              "          await google.colab.kernel.invokeFunction('convertToInteractive',\n",
              "                                                    [key], {});\n",
              "        if (!dataTable) return;\n",
              "\n",
              "        const docLinkHtml = 'Like what you see? Visit the ' +\n",
              "          '<a target=\"_blank\" href=https://colab.research.google.com/notebooks/data_table.ipynb>data table notebook</a>'\n",
              "          + ' to learn more about interactive tables.';\n",
              "        element.innerHTML = '';\n",
              "        dataTable['output_type'] = 'display_data';\n",
              "        await google.colab.output.renderOutput(dataTable, element);\n",
              "        const docLink = document.createElement('div');\n",
              "        docLink.innerHTML = docLinkHtml;\n",
              "        element.appendChild(docLink);\n",
              "      }\n",
              "    </script>\n",
              "  </div>\n",
              "\n",
              "\n",
              "<div id=\"df-cea3bde6-8690-4d43-8709-6ce28e8e172f\">\n",
              "  <button class=\"colab-df-quickchart\" onclick=\"quickchart('df-cea3bde6-8690-4d43-8709-6ce28e8e172f')\"\n",
              "            title=\"Suggest charts\"\n",
              "            style=\"display:none;\">\n",
              "\n",
              "<svg xmlns=\"http://www.w3.org/2000/svg\" height=\"24px\"viewBox=\"0 0 24 24\"\n",
              "     width=\"24px\">\n",
              "    <g>\n",
              "        <path d=\"M19 3H5c-1.1 0-2 .9-2 2v14c0 1.1.9 2 2 2h14c1.1 0 2-.9 2-2V5c0-1.1-.9-2-2-2zM9 17H7v-7h2v7zm4 0h-2V7h2v10zm4 0h-2v-4h2v4z\"/>\n",
              "    </g>\n",
              "</svg>\n",
              "  </button>\n",
              "\n",
              "<style>\n",
              "  .colab-df-quickchart {\n",
              "      --bg-color: #E8F0FE;\n",
              "      --fill-color: #1967D2;\n",
              "      --hover-bg-color: #E2EBFA;\n",
              "      --hover-fill-color: #174EA6;\n",
              "      --disabled-fill-color: #AAA;\n",
              "      --disabled-bg-color: #DDD;\n",
              "  }\n",
              "\n",
              "  [theme=dark] .colab-df-quickchart {\n",
              "      --bg-color: #3B4455;\n",
              "      --fill-color: #D2E3FC;\n",
              "      --hover-bg-color: #434B5C;\n",
              "      --hover-fill-color: #FFFFFF;\n",
              "      --disabled-bg-color: #3B4455;\n",
              "      --disabled-fill-color: #666;\n",
              "  }\n",
              "\n",
              "  .colab-df-quickchart {\n",
              "    background-color: var(--bg-color);\n",
              "    border: none;\n",
              "    border-radius: 50%;\n",
              "    cursor: pointer;\n",
              "    display: none;\n",
              "    fill: var(--fill-color);\n",
              "    height: 32px;\n",
              "    padding: 0;\n",
              "    width: 32px;\n",
              "  }\n",
              "\n",
              "  .colab-df-quickchart:hover {\n",
              "    background-color: var(--hover-bg-color);\n",
              "    box-shadow: 0 1px 2px rgba(60, 64, 67, 0.3), 0 1px 3px 1px rgba(60, 64, 67, 0.15);\n",
              "    fill: var(--button-hover-fill-color);\n",
              "  }\n",
              "\n",
              "  .colab-df-quickchart-complete:disabled,\n",
              "  .colab-df-quickchart-complete:disabled:hover {\n",
              "    background-color: var(--disabled-bg-color);\n",
              "    fill: var(--disabled-fill-color);\n",
              "    box-shadow: none;\n",
              "  }\n",
              "\n",
              "  .colab-df-spinner {\n",
              "    border: 2px solid var(--fill-color);\n",
              "    border-color: transparent;\n",
              "    border-bottom-color: var(--fill-color);\n",
              "    animation:\n",
              "      spin 1s steps(1) infinite;\n",
              "  }\n",
              "\n",
              "  @keyframes spin {\n",
              "    0% {\n",
              "      border-color: transparent;\n",
              "      border-bottom-color: var(--fill-color);\n",
              "      border-left-color: var(--fill-color);\n",
              "    }\n",
              "    20% {\n",
              "      border-color: transparent;\n",
              "      border-left-color: var(--fill-color);\n",
              "      border-top-color: var(--fill-color);\n",
              "    }\n",
              "    30% {\n",
              "      border-color: transparent;\n",
              "      border-left-color: var(--fill-color);\n",
              "      border-top-color: var(--fill-color);\n",
              "      border-right-color: var(--fill-color);\n",
              "    }\n",
              "    40% {\n",
              "      border-color: transparent;\n",
              "      border-right-color: var(--fill-color);\n",
              "      border-top-color: var(--fill-color);\n",
              "    }\n",
              "    60% {\n",
              "      border-color: transparent;\n",
              "      border-right-color: var(--fill-color);\n",
              "    }\n",
              "    80% {\n",
              "      border-color: transparent;\n",
              "      border-right-color: var(--fill-color);\n",
              "      border-bottom-color: var(--fill-color);\n",
              "    }\n",
              "    90% {\n",
              "      border-color: transparent;\n",
              "      border-bottom-color: var(--fill-color);\n",
              "    }\n",
              "  }\n",
              "</style>\n",
              "\n",
              "  <script>\n",
              "    async function quickchart(key) {\n",
              "      const quickchartButtonEl =\n",
              "        document.querySelector('#' + key + ' button');\n",
              "      quickchartButtonEl.disabled = true;  // To prevent multiple clicks.\n",
              "      quickchartButtonEl.classList.add('colab-df-spinner');\n",
              "      try {\n",
              "        const charts = await google.colab.kernel.invokeFunction(\n",
              "            'suggestCharts', [key], {});\n",
              "      } catch (error) {\n",
              "        console.error('Error during call to suggestCharts:', error);\n",
              "      }\n",
              "      quickchartButtonEl.classList.remove('colab-df-spinner');\n",
              "      quickchartButtonEl.classList.add('colab-df-quickchart-complete');\n",
              "    }\n",
              "    (() => {\n",
              "      let quickchartButtonEl =\n",
              "        document.querySelector('#df-cea3bde6-8690-4d43-8709-6ce28e8e172f button');\n",
              "      quickchartButtonEl.style.display =\n",
              "        google.colab.kernel.accessAllowed ? 'block' : 'none';\n",
              "    })();\n",
              "  </script>\n",
              "</div>\n",
              "\n",
              "  <div id=\"id_03085402-58d3-4e6d-9bd6-649f60dd12f6\">\n",
              "    <style>\n",
              "      .colab-df-generate {\n",
              "        background-color: #E8F0FE;\n",
              "        border: none;\n",
              "        border-radius: 50%;\n",
              "        cursor: pointer;\n",
              "        display: none;\n",
              "        fill: #1967D2;\n",
              "        height: 32px;\n",
              "        padding: 0 0 0 0;\n",
              "        width: 32px;\n",
              "      }\n",
              "\n",
              "      .colab-df-generate:hover {\n",
              "        background-color: #E2EBFA;\n",
              "        box-shadow: 0px 1px 2px rgba(60, 64, 67, 0.3), 0px 1px 3px 1px rgba(60, 64, 67, 0.15);\n",
              "        fill: #174EA6;\n",
              "      }\n",
              "\n",
              "      [theme=dark] .colab-df-generate {\n",
              "        background-color: #3B4455;\n",
              "        fill: #D2E3FC;\n",
              "      }\n",
              "\n",
              "      [theme=dark] .colab-df-generate:hover {\n",
              "        background-color: #434B5C;\n",
              "        box-shadow: 0px 1px 3px 1px rgba(0, 0, 0, 0.15);\n",
              "        filter: drop-shadow(0px 1px 2px rgba(0, 0, 0, 0.3));\n",
              "        fill: #FFFFFF;\n",
              "      }\n",
              "    </style>\n",
              "    <button class=\"colab-df-generate\" onclick=\"generateWithVariable('df2')\"\n",
              "            title=\"Generate code using this dataframe.\"\n",
              "            style=\"display:none;\">\n",
              "\n",
              "  <svg xmlns=\"http://www.w3.org/2000/svg\" height=\"24px\"viewBox=\"0 0 24 24\"\n",
              "       width=\"24px\">\n",
              "    <path d=\"M7,19H8.4L18.45,9,17,7.55,7,17.6ZM5,21V16.75L18.45,3.32a2,2,0,0,1,2.83,0l1.4,1.43a1.91,1.91,0,0,1,.58,1.4,1.91,1.91,0,0,1-.58,1.4L9.25,21ZM18.45,9,17,7.55Zm-12,3A5.31,5.31,0,0,0,4.9,8.1,5.31,5.31,0,0,0,1,6.5,5.31,5.31,0,0,0,4.9,4.9,5.31,5.31,0,0,0,6.5,1,5.31,5.31,0,0,0,8.1,4.9,5.31,5.31,0,0,0,12,6.5,5.46,5.46,0,0,0,6.5,12Z\"/>\n",
              "  </svg>\n",
              "    </button>\n",
              "    <script>\n",
              "      (() => {\n",
              "      const buttonEl =\n",
              "        document.querySelector('#id_03085402-58d3-4e6d-9bd6-649f60dd12f6 button.colab-df-generate');\n",
              "      buttonEl.style.display =\n",
              "        google.colab.kernel.accessAllowed ? 'block' : 'none';\n",
              "\n",
              "      buttonEl.onclick = () => {\n",
              "        google.colab.notebook.generateWithVariable('df2');\n",
              "      }\n",
              "      })();\n",
              "    </script>\n",
              "  </div>\n",
              "\n",
              "    </div>\n",
              "  </div>\n"
            ],
            "application/vnd.google.colaboratory.intrinsic+json": {
              "type": "dataframe",
              "variable_name": "df2"
            }
          },
          "metadata": {},
          "execution_count": 15
        }
      ]
    },
    {
      "cell_type": "code",
      "source": [
        "df1.columns"
      ],
      "metadata": {
        "colab": {
          "base_uri": "https://localhost:8080/"
        },
        "id": "D0fo2MsRrpfu",
        "outputId": "ce095f57-f94d-4d35-c3d1-ef8df1d6338f"
      },
      "execution_count": null,
      "outputs": [
        {
          "output_type": "execute_result",
          "data": {
            "text/plain": [
              "Index(['YYYY/MM', 'Quarter', 'Month', 'consolidation', 'Currency',\n",
              "       'Total cash and cash equivalents',\n",
              "       'Total current financial assets at fair value through profit or loss',\n",
              "       'Financial assets at fair value through other comprehensive income - Current',\n",
              "       'Financial assets measured at amortized cost - Current',\n",
              "       'Current financial assets for hedging',\n",
              "       ...\n",
              "       'Other equity - unearned compensation', 'Other equity, others',\n",
              "       'Total other equity interest', 'Treasury shares',\n",
              "       'Total equity attributable to owners of parent',\n",
              "       'Interests in the former associate or jointly controlled entity',\n",
              "       'Non-controlling interest in pre-acquisition share capital',\n",
              "       'Non-controlling interests', 'Total equity',\n",
              "       'Total liabilities & equity'],\n",
              "      dtype='object', length=111)"
            ]
          },
          "metadata": {},
          "execution_count": 18
        }
      ]
    },
    {
      "cell_type": "code",
      "source": [
        "df1.index"
      ],
      "metadata": {
        "colab": {
          "base_uri": "https://localhost:8080/"
        },
        "id": "SIrF6skrr1QG",
        "outputId": "148a014d-b856-4764-b0b8-a2e44f235b5b"
      },
      "execution_count": null,
      "outputs": [
        {
          "output_type": "execute_result",
          "data": {
            "text/plain": [
              "Index(['1217 AGV', '1218 Taisun'], dtype='object', name='CO_ID')"
            ]
          },
          "metadata": {},
          "execution_count": 23
        }
      ]
    },
    {
      "cell_type": "code",
      "source": [
        "df2.columns"
      ],
      "metadata": {
        "colab": {
          "base_uri": "https://localhost:8080/"
        },
        "id": "6gNEytOerxzE",
        "outputId": "087ca53d-59d1-4db8-f22a-2106a7cf8ca2"
      },
      "execution_count": null,
      "outputs": [
        {
          "output_type": "execute_result",
          "data": {
            "text/plain": [
              "Index(['YYYY/MM', 'Quarter', 'consolidation', 'Month', 'Currency',\n",
              "       'Gross operating revenue', 'Total rental revenue',\n",
              "       'Operating revenue - Disposal of lands', 'Interest revenue',\n",
              "       'Operating revenue - disposal of investments',\n",
              "       ...\n",
              "       'Preferred stock dividends', 'Diluted net income',\n",
              "       'Total diluted earnings per share',\n",
              "       'Average diluted common shares (Thousand)',\n",
              "       'Earnings before interest and tax',\n",
              "       'Earnings before interest, tax, depreciation and amortization',\n",
              "       'Recurring net income', 'Treasury shares-buys back',\n",
              "       'Treasury shares-subsidiary holding', 'Total treasury shares'],\n",
              "      dtype='object', length=133)"
            ]
          },
          "metadata": {},
          "execution_count": 21
        }
      ]
    },
    {
      "cell_type": "code",
      "source": [],
      "metadata": {
        "id": "MQa18eLHz3d-"
      },
      "execution_count": null,
      "outputs": []
    },
    {
      "cell_type": "code",
      "source": [
        "df2.index"
      ],
      "metadata": {
        "colab": {
          "base_uri": "https://localhost:8080/"
        },
        "id": "0Q96MU3Nr5WV",
        "outputId": "c62b4e54-7b23-4616-af6a-3764c507860f"
      },
      "execution_count": null,
      "outputs": [
        {
          "output_type": "execute_result",
          "data": {
            "text/plain": [
              "Index(['1217 AGV', '1218 Taisun'], dtype='object', name='ï»¿CO_ID')"
            ]
          },
          "metadata": {},
          "execution_count": 22
        }
      ]
    },
    {
      "cell_type": "markdown",
      "source": [
        "learn about Zscore"
      ],
      "metadata": {
        "id": "XzqJ01D3zyTe"
      }
    },
    {
      "cell_type": "code",
      "source": [
        "A_1217 = (df1.loc['1217 AGV','Total current assets'] - df1.loc['1217 AGV','Total current liabilities'])/df1.loc['1217 AGV','Total assets']"
      ],
      "metadata": {
        "id": "03el_c-Xr9BW"
      },
      "execution_count": null,
      "outputs": []
    },
    {
      "cell_type": "code",
      "source": [
        "A_1217"
      ],
      "metadata": {
        "colab": {
          "base_uri": "https://localhost:8080/"
        },
        "id": "LfChQdJLv3iG",
        "outputId": "e762e709-3af2-4fa8-db6a-bf79db0c8617"
      },
      "execution_count": null,
      "outputs": [
        {
          "output_type": "execute_result",
          "data": {
            "text/plain": [
              "-0.003306087488615868"
            ]
          },
          "metadata": {},
          "execution_count": 35
        }
      ]
    },
    {
      "cell_type": "markdown",
      "source": [
        "set some code name to be easily"
      ],
      "metadata": {
        "id": "MvVKU4rmzYBN"
      }
    },
    {
      "cell_type": "code",
      "source": [
        "X1 ='Total current assets'\n",
        "X2 ='Total current liabilities'\n",
        "X3 ='Total assets'\n",
        "X4 ='Total retained earnings'\n",
        "X5 ='Earnings before interest and tax'\n",
        "X6 ='Total equity'\n",
        "X7 ='Total liabilities'\n",
        "X8 = 'Total operating revenue'\n",
        "AGV ='1217 AGV'\n",
        "TAISUN ='1218 Taisun'"
      ],
      "metadata": {
        "id": "V4QxdLk_vAhu"
      },
      "execution_count": null,
      "outputs": []
    },
    {
      "cell_type": "markdown",
      "source": [
        "calculate ACG/TAISUN'S Zscore"
      ],
      "metadata": {
        "id": "J8xRxW9WzIG9"
      }
    },
    {
      "cell_type": "code",
      "source": [
        "A_AGV = (df1.loc[AGV,X1] - df1.loc[AGV,X2])/df1.loc[AGV,X3]"
      ],
      "metadata": {
        "id": "Ceod9r5SvfCe"
      },
      "execution_count": null,
      "outputs": []
    },
    {
      "cell_type": "code",
      "source": [
        "B_AGV = df1.loc[AGV,X4]/df1.loc[AGV, X3]"
      ],
      "metadata": {
        "id": "NmWNTzYOwJR-"
      },
      "execution_count": null,
      "outputs": []
    },
    {
      "cell_type": "code",
      "source": [
        "C_AGV = df2.loc[AGV,X5]/df1.loc[AGV, X3]"
      ],
      "metadata": {
        "id": "p2tE2xiWwa-W"
      },
      "execution_count": null,
      "outputs": []
    },
    {
      "cell_type": "code",
      "source": [
        "D_AGV = df1.loc[AGV,X6]/df1.loc[AGV, X7]"
      ],
      "metadata": {
        "id": "f6lPCiMPwdbe"
      },
      "execution_count": null,
      "outputs": []
    },
    {
      "cell_type": "code",
      "source": [
        "E_AGV = df2.loc[AGV,X8]/df1.loc[AGV, X3]"
      ],
      "metadata": {
        "id": "e_NzI4DMwfee"
      },
      "execution_count": null,
      "outputs": []
    },
    {
      "cell_type": "code",
      "source": [
        "Z_score_AGV = 1.2*A_AGV + 1.4*B_AGV + 3.3*C_AGV + 0.6*D_AGV+1.0*E_AGV"
      ],
      "metadata": {
        "id": "QH1WDi2kwhhe"
      },
      "execution_count": null,
      "outputs": []
    },
    {
      "cell_type": "code",
      "source": [
        "Z_score_AGV, A_AGV, B_AGV, C_AGV, D_AGV, E_AGV"
      ],
      "metadata": {
        "colab": {
          "base_uri": "https://localhost:8080/"
        },
        "id": "-e6eSx8Vxize",
        "outputId": "d9ac8f95-4158-411a-cff6-da76e930e7f1"
      },
      "execution_count": null,
      "outputs": [
        {
          "output_type": "execute_result",
          "data": {
            "text/plain": [
              "(1.2573701621078464,\n",
              " -0.003306087488615868,\n",
              " 0.08312709362838056,\n",
              " 0.028064194738016975,\n",
              " 1.1714781549146778,\n",
              " 0.34946080043019007)"
            ]
          },
          "metadata": {},
          "execution_count": 67
        }
      ]
    },
    {
      "cell_type": "code",
      "source": [
        "A_TAISUN = (df1.loc[TAISUN,X1] - df1.loc[TAISUN,X2])/df1.loc[TAISUN,X3]"
      ],
      "metadata": {
        "id": "z6-UDGrcx8o2"
      },
      "execution_count": null,
      "outputs": []
    },
    {
      "cell_type": "code",
      "source": [
        "B_TAISUN = df1.loc[TAISUN,X4]/df1.loc[TAISUN, X3]"
      ],
      "metadata": {
        "id": "N4JlES1cx-Nu"
      },
      "execution_count": null,
      "outputs": []
    },
    {
      "cell_type": "code",
      "source": [
        "C_TAISUN = df2.loc[TAISUN,X5]/df1.loc[TAISUN, X3]"
      ],
      "metadata": {
        "id": "iIuk00wpx-VE"
      },
      "execution_count": null,
      "outputs": []
    },
    {
      "cell_type": "code",
      "source": [
        "D_TAISUN = df1.loc[TAISUN,X6]/df1.loc[TAISUN, X7]"
      ],
      "metadata": {
        "id": "ymllECV6x-cw"
      },
      "execution_count": null,
      "outputs": []
    },
    {
      "cell_type": "code",
      "source": [
        "E_TAISUN = df2.loc[TAISUN,X8]/df1.loc[TAISUN, X3]"
      ],
      "metadata": {
        "id": "qeM2tVRGyBf9"
      },
      "execution_count": null,
      "outputs": []
    },
    {
      "cell_type": "code",
      "source": [
        "Z_score_TAISUN = 1.2*A_TAISUN + 1.4*B_TAISUN + 3.3*C_TAISUN + 0.6*D_TAISUN + 1.0*E_TAISUN"
      ],
      "metadata": {
        "id": "tkDtG6uhyCP-"
      },
      "execution_count": null,
      "outputs": []
    },
    {
      "cell_type": "code",
      "source": [
        "Z_score_TAISUN, A_TAISUN, B_TAISUN, C_TAISUN, D_TAISUN, E_TAISUN"
      ],
      "metadata": {
        "colab": {
          "base_uri": "https://localhost:8080/"
        },
        "id": "HZwa2JEDyFRd",
        "outputId": "52c861da-a827-4b39-c720-5cd48b607cce"
      },
      "execution_count": null,
      "outputs": [
        {
          "output_type": "execute_result",
          "data": {
            "text/plain": [
              "(6.414755472411749,\n",
              " 0.30238178298030494,\n",
              " 0.46492227156571847,\n",
              " 0.010517382495012122,\n",
              " 7.575762211177258,\n",
              " 0.8208414637034837)"
            ]
          },
          "metadata": {},
          "execution_count": 77
        }
      ]
    },
    {
      "cell_type": "markdown",
      "source": [
        "Zscore : TAISUN > AGV\n",
        "so that taisun is better than AGV"
      ],
      "metadata": {
        "id": "a8pxUECf0Q2N"
      }
    }
  ]
}